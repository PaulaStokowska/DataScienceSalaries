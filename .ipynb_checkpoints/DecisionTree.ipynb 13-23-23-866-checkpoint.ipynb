{
 "cells": [
  {
   "cell_type": "code",
   "execution_count": 45,
   "id": "26a6041d-1201-4d34-ae5f-d53234e869ea",
   "metadata": {},
   "outputs": [],
   "source": [
    "import pandas as pd\n",
    "import matplotlib.pyplot as plt"
   ]
  },
  {
   "cell_type": "code",
   "execution_count": 5,
   "id": "72d15b4f-af42-4f2e-8a51-1d8ba68843a8",
   "metadata": {},
   "outputs": [
    {
     "name": "stdout",
     "output_type": "stream",
     "text": [
      "<class 'pandas.core.frame.DataFrame'>\n",
      "RangeIndex: 607 entries, 0 to 606\n",
      "Data columns (total 11 columns):\n",
      " #   Column              Non-Null Count  Dtype \n",
      "---  ------              --------------  ----- \n",
      " 0   work_year           607 non-null    int64 \n",
      " 1   experience_level    607 non-null    object\n",
      " 2   employment_type     607 non-null    object\n",
      " 3   job_title           607 non-null    object\n",
      " 4   salary              607 non-null    int64 \n",
      " 5   salary_currency     607 non-null    object\n",
      " 6   salary_in_usd       607 non-null    int64 \n",
      " 7   employee_residence  607 non-null    object\n",
      " 8   remote_ratio        607 non-null    int64 \n",
      " 9   company_location    607 non-null    object\n",
      " 10  company_size        607 non-null    object\n",
      "dtypes: int64(4), object(7)\n",
      "memory usage: 52.3+ KB\n"
     ]
    }
   ],
   "source": [
    "df = pd.read_csv('ds_salaries.csv')\n",
    "df = df.drop(['Unnamed: 0'], axis = 1)\n",
    "df.info()"
   ]
  },
  {
   "cell_type": "code",
   "execution_count": 12,
   "id": "68271a42-1cff-4b4e-957f-84915d0f003f",
   "metadata": {},
   "outputs": [
    {
     "data": {
      "text/html": [
       "<div>\n",
       "<style scoped>\n",
       "    .dataframe tbody tr th:only-of-type {\n",
       "        vertical-align: middle;\n",
       "    }\n",
       "\n",
       "    .dataframe tbody tr th {\n",
       "        vertical-align: top;\n",
       "    }\n",
       "\n",
       "    .dataframe thead th {\n",
       "        text-align: right;\n",
       "    }\n",
       "</style>\n",
       "<table border=\"1\" class=\"dataframe\">\n",
       "  <thead>\n",
       "    <tr style=\"text-align: right;\">\n",
       "      <th></th>\n",
       "      <th>work_year</th>\n",
       "      <th>experience_level</th>\n",
       "      <th>employment_type</th>\n",
       "      <th>job_title</th>\n",
       "      <th>salary</th>\n",
       "      <th>salary_currency</th>\n",
       "      <th>salary_in_usd</th>\n",
       "      <th>employee_residence</th>\n",
       "      <th>remote_ratio</th>\n",
       "      <th>company_location</th>\n",
       "      <th>company_size</th>\n",
       "      <th>salary_k</th>\n",
       "      <th>salary_more_than_100k</th>\n",
       "    </tr>\n",
       "  </thead>\n",
       "  <tbody>\n",
       "    <tr>\n",
       "      <th>0</th>\n",
       "      <td>2020</td>\n",
       "      <td>MI</td>\n",
       "      <td>FT</td>\n",
       "      <td>Data Scientist</td>\n",
       "      <td>70000</td>\n",
       "      <td>EUR</td>\n",
       "      <td>79833</td>\n",
       "      <td>DE</td>\n",
       "      <td>0</td>\n",
       "      <td>DE</td>\n",
       "      <td>2</td>\n",
       "      <td>70.0</td>\n",
       "      <td>0</td>\n",
       "    </tr>\n",
       "    <tr>\n",
       "      <th>1</th>\n",
       "      <td>2020</td>\n",
       "      <td>SE</td>\n",
       "      <td>FT</td>\n",
       "      <td>Machine Learning Scientist</td>\n",
       "      <td>260000</td>\n",
       "      <td>USD</td>\n",
       "      <td>260000</td>\n",
       "      <td>JP</td>\n",
       "      <td>0</td>\n",
       "      <td>JP</td>\n",
       "      <td>0</td>\n",
       "      <td>260.0</td>\n",
       "      <td>1</td>\n",
       "    </tr>\n",
       "    <tr>\n",
       "      <th>2</th>\n",
       "      <td>2020</td>\n",
       "      <td>SE</td>\n",
       "      <td>FT</td>\n",
       "      <td>Big Data Engineer</td>\n",
       "      <td>85000</td>\n",
       "      <td>GBP</td>\n",
       "      <td>109024</td>\n",
       "      <td>GB</td>\n",
       "      <td>1</td>\n",
       "      <td>GB</td>\n",
       "      <td>1</td>\n",
       "      <td>85.0</td>\n",
       "      <td>0</td>\n",
       "    </tr>\n",
       "    <tr>\n",
       "      <th>3</th>\n",
       "      <td>2020</td>\n",
       "      <td>MI</td>\n",
       "      <td>FT</td>\n",
       "      <td>Product Data Analyst</td>\n",
       "      <td>20000</td>\n",
       "      <td>USD</td>\n",
       "      <td>20000</td>\n",
       "      <td>HN</td>\n",
       "      <td>0</td>\n",
       "      <td>HN</td>\n",
       "      <td>0</td>\n",
       "      <td>20.0</td>\n",
       "      <td>0</td>\n",
       "    </tr>\n",
       "    <tr>\n",
       "      <th>4</th>\n",
       "      <td>2020</td>\n",
       "      <td>SE</td>\n",
       "      <td>FT</td>\n",
       "      <td>Machine Learning Engineer</td>\n",
       "      <td>150000</td>\n",
       "      <td>USD</td>\n",
       "      <td>150000</td>\n",
       "      <td>US</td>\n",
       "      <td>1</td>\n",
       "      <td>US</td>\n",
       "      <td>2</td>\n",
       "      <td>150.0</td>\n",
       "      <td>1</td>\n",
       "    </tr>\n",
       "    <tr>\n",
       "      <th>...</th>\n",
       "      <td>...</td>\n",
       "      <td>...</td>\n",
       "      <td>...</td>\n",
       "      <td>...</td>\n",
       "      <td>...</td>\n",
       "      <td>...</td>\n",
       "      <td>...</td>\n",
       "      <td>...</td>\n",
       "      <td>...</td>\n",
       "      <td>...</td>\n",
       "      <td>...</td>\n",
       "      <td>...</td>\n",
       "      <td>...</td>\n",
       "    </tr>\n",
       "    <tr>\n",
       "      <th>602</th>\n",
       "      <td>2022</td>\n",
       "      <td>SE</td>\n",
       "      <td>FT</td>\n",
       "      <td>Data Engineer</td>\n",
       "      <td>154000</td>\n",
       "      <td>USD</td>\n",
       "      <td>154000</td>\n",
       "      <td>US</td>\n",
       "      <td>2</td>\n",
       "      <td>US</td>\n",
       "      <td>1</td>\n",
       "      <td>154.0</td>\n",
       "      <td>1</td>\n",
       "    </tr>\n",
       "    <tr>\n",
       "      <th>603</th>\n",
       "      <td>2022</td>\n",
       "      <td>SE</td>\n",
       "      <td>FT</td>\n",
       "      <td>Data Engineer</td>\n",
       "      <td>126000</td>\n",
       "      <td>USD</td>\n",
       "      <td>126000</td>\n",
       "      <td>US</td>\n",
       "      <td>2</td>\n",
       "      <td>US</td>\n",
       "      <td>1</td>\n",
       "      <td>126.0</td>\n",
       "      <td>1</td>\n",
       "    </tr>\n",
       "    <tr>\n",
       "      <th>604</th>\n",
       "      <td>2022</td>\n",
       "      <td>SE</td>\n",
       "      <td>FT</td>\n",
       "      <td>Data Analyst</td>\n",
       "      <td>129000</td>\n",
       "      <td>USD</td>\n",
       "      <td>129000</td>\n",
       "      <td>US</td>\n",
       "      <td>0</td>\n",
       "      <td>US</td>\n",
       "      <td>1</td>\n",
       "      <td>129.0</td>\n",
       "      <td>1</td>\n",
       "    </tr>\n",
       "    <tr>\n",
       "      <th>605</th>\n",
       "      <td>2022</td>\n",
       "      <td>SE</td>\n",
       "      <td>FT</td>\n",
       "      <td>Data Analyst</td>\n",
       "      <td>150000</td>\n",
       "      <td>USD</td>\n",
       "      <td>150000</td>\n",
       "      <td>US</td>\n",
       "      <td>2</td>\n",
       "      <td>US</td>\n",
       "      <td>1</td>\n",
       "      <td>150.0</td>\n",
       "      <td>1</td>\n",
       "    </tr>\n",
       "    <tr>\n",
       "      <th>606</th>\n",
       "      <td>2022</td>\n",
       "      <td>MI</td>\n",
       "      <td>FT</td>\n",
       "      <td>AI Scientist</td>\n",
       "      <td>200000</td>\n",
       "      <td>USD</td>\n",
       "      <td>200000</td>\n",
       "      <td>IN</td>\n",
       "      <td>2</td>\n",
       "      <td>US</td>\n",
       "      <td>2</td>\n",
       "      <td>200.0</td>\n",
       "      <td>1</td>\n",
       "    </tr>\n",
       "  </tbody>\n",
       "</table>\n",
       "<p>607 rows × 13 columns</p>\n",
       "</div>"
      ],
      "text/plain": [
       "     work_year experience_level employment_type                   job_title  \\\n",
       "0         2020               MI              FT              Data Scientist   \n",
       "1         2020               SE              FT  Machine Learning Scientist   \n",
       "2         2020               SE              FT           Big Data Engineer   \n",
       "3         2020               MI              FT        Product Data Analyst   \n",
       "4         2020               SE              FT   Machine Learning Engineer   \n",
       "..         ...              ...             ...                         ...   \n",
       "602       2022               SE              FT               Data Engineer   \n",
       "603       2022               SE              FT               Data Engineer   \n",
       "604       2022               SE              FT                Data Analyst   \n",
       "605       2022               SE              FT                Data Analyst   \n",
       "606       2022               MI              FT                AI Scientist   \n",
       "\n",
       "     salary salary_currency  salary_in_usd employee_residence  remote_ratio  \\\n",
       "0     70000             EUR          79833                 DE             0   \n",
       "1    260000             USD         260000                 JP             0   \n",
       "2     85000             GBP         109024                 GB             1   \n",
       "3     20000             USD          20000                 HN             0   \n",
       "4    150000             USD         150000                 US             1   \n",
       "..      ...             ...            ...                ...           ...   \n",
       "602  154000             USD         154000                 US             2   \n",
       "603  126000             USD         126000                 US             2   \n",
       "604  129000             USD         129000                 US             0   \n",
       "605  150000             USD         150000                 US             2   \n",
       "606  200000             USD         200000                 IN             2   \n",
       "\n",
       "    company_location  company_size  salary_k  salary_more_than_100k  \n",
       "0                 DE             2      70.0                      0  \n",
       "1                 JP             0     260.0                      1  \n",
       "2                 GB             1      85.0                      0  \n",
       "3                 HN             0      20.0                      0  \n",
       "4                 US             2     150.0                      1  \n",
       "..               ...           ...       ...                    ...  \n",
       "602               US             1     154.0                      1  \n",
       "603               US             1     126.0                      1  \n",
       "604               US             1     129.0                      1  \n",
       "605               US             1     150.0                      1  \n",
       "606               US             2     200.0                      1  \n",
       "\n",
       "[607 rows x 13 columns]"
      ]
     },
     "execution_count": 12,
     "metadata": {},
     "output_type": "execute_result"
    }
   ],
   "source": [
    "df"
   ]
  },
  {
   "cell_type": "code",
   "execution_count": 6,
   "id": "2ab9076f-f003-4c53-b024-63839a22146e",
   "metadata": {},
   "outputs": [],
   "source": [
    "df['salary_k'] = df['salary']/1000\n",
    "df['company_size'].replace(['S', 'M', 'L'], [0, 1, 2], inplace=True)\n",
    "df['remote_ratio'] = df['remote_ratio'].replace({50: 1, 100: 2})\n",
    "\n",
    "def categorise(row):  \n",
    "    if row['salary'] > 100000:\n",
    "        return 1\n",
    "    else: return 0\n",
    "\n",
    "df['salary_more_than_100k'] = df.apply(lambda row: categorise(row), axis=1)"
   ]
  },
  {
   "cell_type": "code",
   "execution_count": 19,
   "id": "c875e3ee-ce46-4f88-803c-a9ecc4ac097e",
   "metadata": {},
   "outputs": [],
   "source": [
    "inputs = df[['remote_ratio', 'company_size']]\n",
    "target = df['salary_more_than_100k']"
   ]
  },
  {
   "cell_type": "code",
   "execution_count": 21,
   "id": "53a51ed9-120e-4dda-b36b-dfed5a954d81",
   "metadata": {},
   "outputs": [
    {
     "data": {
      "text/plain": [
       "(0      0\n",
       " 1      1\n",
       " 2      0\n",
       " 3      0\n",
       " 4      1\n",
       "       ..\n",
       " 602    1\n",
       " 603    1\n",
       " 604    1\n",
       " 605    1\n",
       " 606    1\n",
       " Name: salary_more_than_100k, Length: 607, dtype: int64,\n",
       "      remote_ratio  company_size\n",
       " 0               0             2\n",
       " 1               0             0\n",
       " 2               1             1\n",
       " 3               0             0\n",
       " 4               1             2\n",
       " ..            ...           ...\n",
       " 602             2             1\n",
       " 603             2             1\n",
       " 604             0             1\n",
       " 605             2             1\n",
       " 606             2             2\n",
       " \n",
       " [607 rows x 2 columns])"
      ]
     },
     "execution_count": 21,
     "metadata": {},
     "output_type": "execute_result"
    }
   ],
   "source": [
    "target, inputs"
   ]
  },
  {
   "cell_type": "code",
   "execution_count": 22,
   "id": "c5b7de84-fbd7-41da-9f8a-b1891af799d4",
   "metadata": {},
   "outputs": [],
   "source": [
    "from sklearn import tree\n",
    "model = tree.DecisionTreeClassifier()"
   ]
  },
  {
   "cell_type": "code",
   "execution_count": 27,
   "id": "ef10fb5f-bcb9-42b3-9da7-3c1896a7272c",
   "metadata": {},
   "outputs": [],
   "source": [
    "model = model.fit(inputs, target)"
   ]
  },
  {
   "cell_type": "code",
   "execution_count": 28,
   "id": "737bd8a0-8ffe-4804-b8dd-ab12aaf33d09",
   "metadata": {},
   "outputs": [
    {
     "data": {
      "text/plain": [
       "0.6392092257001647"
      ]
     },
     "execution_count": 28,
     "metadata": {},
     "output_type": "execute_result"
    }
   ],
   "source": [
    "model.score(inputs,target)"
   ]
  },
  {
   "cell_type": "code",
   "execution_count": 29,
   "id": "eb2aca2f-c418-446c-ad07-eedbfff7972b",
   "metadata": {},
   "outputs": [
    {
     "name": "stderr",
     "output_type": "stream",
     "text": [
      "/opt/anaconda3/lib/python3.9/site-packages/sklearn/base.py:450: UserWarning: X does not have valid feature names, but DecisionTreeClassifier was fitted with feature names\n",
      "  warnings.warn(\n"
     ]
    },
    {
     "data": {
      "text/plain": [
       "array([1])"
      ]
     },
     "execution_count": 29,
     "metadata": {},
     "output_type": "execute_result"
    }
   ],
   "source": [
    "model.predict([[2,1]])"
   ]
  },
  {
   "cell_type": "code",
   "execution_count": 60,
   "id": "f7121600-b697-4a0c-a514-0ef36e86bcdb",
   "metadata": {},
   "outputs": [
    {
     "data": {
      "image/png": "[encoded data removed]",
      "text/plain": [
       "<Figure size 864x864 with 1 Axes>"
      ]
     },
     "metadata": {
      "needs_background": "light"
     },
     "output_type": "display_data"
    },
    {
     "data": {
      "text/plain": [
       "<Figure size 432x288 with 0 Axes>"
      ]
     },
     "metadata": {},
     "output_type": "display_data"
    }
   ],
   "source": [
    "from sklearn import tree\n",
    "\n",
    "plt.figure(figsize=(12,12))\n",
    "tree.plot_tree(model, \n",
    "               label = all,\n",
    "               precision = 1,\n",
    "               fontsize = 9)\n",
    "plt.show()\n",
    "plt.savefig('tree.png')"
   ]
  },
  {
   "cell_type": "code",
   "execution_count": null,
   "id": "a1eb6b29-de22-45ce-aa1f-cda02e3e124c",
   "metadata": {},
   "outputs": [],
   "source": []
  }
 ],
 "metadata": {
  "kernelspec": {
   "display_name": "Python 3 (ipykernel)",
   "language": "python",
   "name": "python3"
  },
  "language_info": {
   "codemirror_mode": {
    "name": "ipython",
    "version": 3
   },
   "file_extension": ".py",
   "mimetype": "text/x-python",
   "name": "python",
   "nbconvert_exporter": "python",
   "pygments_lexer": "ipython3",
   "version": "3.9.12"
  }
 },
 "nbformat": 4,
 "nbformat_minor": 5
}
