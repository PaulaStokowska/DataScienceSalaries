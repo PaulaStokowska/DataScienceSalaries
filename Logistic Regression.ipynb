{
 "cells": [
  {
   "cell_type": "code",
   "execution_count": null,
   "id": "fd558f47-c4ea-4780-80b7-d71f70253ac6",
   "metadata": {},
   "outputs": [],
   "source": [
    "#Predicting remote ratio and company size of a data scientists based on their salaries using logistic regression"
   ]
  },
  {
   "cell_type": "code",
   "execution_count": 17,
   "id": "6ac79484-279e-4916-8358-0d6fb39b6d91",
   "metadata": {},
   "outputs": [],
   "source": [
    "import pandas as pd\n",
    "from matplotlib import pyplot as plt\n",
    "%matplotlib inline\n",
    "\n",
    "from sklearn.linear_model import LinearRegression\n",
    "from sklearn.linear_model import LogisticRegression\n",
    "from sklearn.model_selection import train_test_split"
   ]
  },
  {
   "cell_type": "code",
   "execution_count": 7,
   "id": "2ebc71b3-0f57-4003-82e9-b1b4f271e901",
   "metadata": {},
   "outputs": [
    {
     "name": "stdout",
     "output_type": "stream",
     "text": [
      "<class 'pandas.core.frame.DataFrame'>\n",
      "RangeIndex: 607 entries, 0 to 606\n",
      "Data columns (total 14 columns):\n",
      " #   Column                 Non-Null Count  Dtype  \n",
      "---  ------                 --------------  -----  \n",
      " 0   Unnamed: 0             607 non-null    int64  \n",
      " 1   work_year              607 non-null    int64  \n",
      " 2   experience_level       607 non-null    object \n",
      " 3   employment_type        607 non-null    object \n",
      " 4   job_title              607 non-null    object \n",
      " 5   salary                 607 non-null    int64  \n",
      " 6   salary_currency        607 non-null    object \n",
      " 7   salary_in_usd          607 non-null    int64  \n",
      " 8   employee_residence     607 non-null    object \n",
      " 9   remote_ratio           607 non-null    int64  \n",
      " 10  company_location       607 non-null    object \n",
      " 11  company_size           607 non-null    int64  \n",
      " 12  salary_k               607 non-null    float64\n",
      " 13  salary_more_than_100k  607 non-null    int64  \n",
      "dtypes: float64(1), int64(7), object(6)\n",
      "memory usage: 66.5+ KB\n"
     ]
    }
   ],
   "source": [
    "df = pd.read_csv('df.csv')\n",
    "df.info()"
   ]
  },
  {
   "cell_type": "code",
   "execution_count": 12,
   "id": "63b8058b-a243-4d09-b91d-a40cd244be6a",
   "metadata": {},
   "outputs": [
    {
     "data": {
      "text/plain": [
       "<matplotlib.collections.PathCollection at 0x7f95d6ace430>"
      ]
     },
     "execution_count": 12,
     "metadata": {},
     "output_type": "execute_result"
    },
    {
     "data": {
      "image/png": "[encoded data removed]",
      "text/plain": [
       "<Figure size 432x288 with 1 Axes>"
      ]
     },
     "metadata": {
      "needs_background": "light"
     },
     "output_type": "display_data"
    }
   ],
   "source": [
    "plt.scatter(df.salary_k,df.remote_ratio,marker='+',color='red')"
   ]
  },
  {
   "cell_type": "code",
   "execution_count": 13,
   "id": "d8d28b6c-5791-4d7f-8f13-761f9c752715",
   "metadata": {},
   "outputs": [
    {
     "data": {
      "text/plain": [
       "<matplotlib.collections.PathCollection at 0x7f95d6bc1790>"
      ]
     },
     "execution_count": 13,
     "metadata": {},
     "output_type": "execute_result"
    },
    {
     "data": {
      "image/png": "[encoded data removed]",
      "text/plain": [
       "<Figure size 432x288 with 1 Axes>"
      ]
     },
     "metadata": {
      "needs_background": "light"
     },
     "output_type": "display_data"
    }
   ],
   "source": [
    "plt.scatter(df.salary_k,df.company_size,marker='+',color='red')"
   ]
  },
  {
   "cell_type": "code",
   "execution_count": 14,
   "id": "89d9df2f-a9b0-4423-b6b7-04c78726576f",
   "metadata": {},
   "outputs": [],
   "source": [
    "#Preparing training data\n",
    "X_train, X_test, y_train, y_test = train_test_split(df[['salary']], df.remote_ratio, train_size=0.8)"
   ]
  },
  {
   "cell_type": "code",
   "execution_count": 16,
   "id": "e0197133-eab8-4744-b2db-72ca4dc9e839",
   "metadata": {},
   "outputs": [
    {
     "data": {
      "text/html": [
       "<div>\n",
       "<style scoped>\n",
       "    .dataframe tbody tr th:only-of-type {\n",
       "        vertical-align: middle;\n",
       "    }\n",
       "\n",
       "    .dataframe tbody tr th {\n",
       "        vertical-align: top;\n",
       "    }\n",
       "\n",
       "    .dataframe thead th {\n",
       "        text-align: right;\n",
       "    }\n",
       "</style>\n",
       "<table border=\"1\" class=\"dataframe\">\n",
       "  <thead>\n",
       "    <tr style=\"text-align: right;\">\n",
       "      <th></th>\n",
       "      <th>salary</th>\n",
       "    </tr>\n",
       "  </thead>\n",
       "  <tbody>\n",
       "    <tr>\n",
       "      <th>71</th>\n",
       "      <td>37000</td>\n",
       "    </tr>\n",
       "    <tr>\n",
       "      <th>285</th>\n",
       "      <td>7000000</td>\n",
       "    </tr>\n",
       "    <tr>\n",
       "      <th>432</th>\n",
       "      <td>80000</td>\n",
       "    </tr>\n",
       "    <tr>\n",
       "      <th>392</th>\n",
       "      <td>112900</td>\n",
       "    </tr>\n",
       "    <tr>\n",
       "      <th>330</th>\n",
       "      <td>112900</td>\n",
       "    </tr>\n",
       "    <tr>\n",
       "      <th>...</th>\n",
       "      <td>...</td>\n",
       "    </tr>\n",
       "    <tr>\n",
       "      <th>119</th>\n",
       "      <td>200000</td>\n",
       "    </tr>\n",
       "    <tr>\n",
       "      <th>380</th>\n",
       "      <td>136994</td>\n",
       "    </tr>\n",
       "    <tr>\n",
       "      <th>534</th>\n",
       "      <td>266400</td>\n",
       "    </tr>\n",
       "    <tr>\n",
       "      <th>171</th>\n",
       "      <td>60000</td>\n",
       "    </tr>\n",
       "    <tr>\n",
       "      <th>462</th>\n",
       "      <td>50000</td>\n",
       "    </tr>\n",
       "  </tbody>\n",
       "</table>\n",
       "<p>122 rows × 1 columns</p>\n",
       "</div>"
      ],
      "text/plain": [
       "      salary\n",
       "71     37000\n",
       "285  7000000\n",
       "432    80000\n",
       "392   112900\n",
       "330   112900\n",
       "..       ...\n",
       "119   200000\n",
       "380   136994\n",
       "534   266400\n",
       "171    60000\n",
       "462    50000\n",
       "\n",
       "[122 rows x 1 columns]"
      ]
     },
     "execution_count": 16,
     "metadata": {},
     "output_type": "execute_result"
    }
   ],
   "source": [
    "X_test"
   ]
  },
  {
   "cell_type": "code",
   "execution_count": 18,
   "id": "97f78e27-ea81-46e6-af10-152110a03d88",
   "metadata": {},
   "outputs": [
    {
     "data": {
      "text/plain": [
       "LogisticRegression()"
      ]
     },
     "execution_count": 18,
     "metadata": {},
     "output_type": "execute_result"
    }
   ],
   "source": [
    "model = LogisticRegression()\n",
    "model.fit(X_train, y_train)"
   ]
  },
  {
   "cell_type": "code",
   "execution_count": 21,
   "id": "e541edac-4308-4b69-8949-e4d44e0b6c04",
   "metadata": {},
   "outputs": [],
   "source": [
    "y_predicted = model.predict(X_test)"
   ]
  },
  {
   "cell_type": "code",
   "execution_count": 22,
   "id": "d1569299-9e9f-414c-8e07-32dbd3a15d9a",
   "metadata": {},
   "outputs": [
    {
     "data": {
      "text/plain": [
       "array([[0.32914929, 0.33523586, 0.33561485],\n",
       "       [0.01375872, 0.44061529, 0.54562599],\n",
       "       [0.32432052, 0.33742707, 0.33825241],\n",
       "       [0.32065089, 0.33908901, 0.3402601 ],\n",
       "       [0.32065089, 0.33908901, 0.3402601 ],\n",
       "       [0.31543576, 0.34144593, 0.34311831],\n",
       "       [0.32065089, 0.33908901, 0.3402601 ],\n",
       "       [0.33106838, 0.33436367, 0.33456795],\n",
       "       [0.33010813, 0.33480018, 0.33509169],\n",
       "       [0.31801881, 0.34027929, 0.3417019 ],\n",
       "       [0.32881121, 0.33538943, 0.33579936],\n",
       "       [0.20183745, 0.39094765, 0.4072149 ],\n",
       "       [0.32737074, 0.3360435 , 0.33658576],\n",
       "       [0.3204174 , 0.33919466, 0.34038794],\n",
       "       [0.30994986, 0.34391878, 0.34613136],\n",
       "       [0.31542694, 0.34144991, 0.34312315],\n",
       "       [0.12797564, 0.42004173, 0.45198263],\n",
       "       [0.31875224, 0.33994777, 0.34129999],\n",
       "       [0.32510409, 0.33707183, 0.33782408],\n",
       "       [0.31653919, 0.34094774, 0.34251307],\n",
       "       [0.12238   , 0.422068  , 0.455552  ],\n",
       "       [0.31543576, 0.34144593, 0.34311831],\n",
       "       [0.28833467, 0.35359426, 0.35807107],\n",
       "       [0.32824815, 0.33564515, 0.3361067 ],\n",
       "       [0.32768557, 0.33590058, 0.33641385],\n",
       "       [0.32036182, 0.33921981, 0.34041837],\n",
       "       [0.32791054, 0.33579844, 0.33629102],\n",
       "       [0.31528784, 0.34151269, 0.34319947],\n",
       "       [0.33005169, 0.33482583, 0.33512248],\n",
       "       [0.31271919, 0.3426713 , 0.34460951],\n",
       "       [0.31952875, 0.33959665, 0.34087461],\n",
       "       [0.32432052, 0.33742707, 0.33825241],\n",
       "       [0.32881121, 0.33538943, 0.33579936],\n",
       "       [0.32858593, 0.33549175, 0.33592232],\n",
       "       [0.32488011, 0.33717339, 0.3379465 ],\n",
       "       [0.31554601, 0.34139616, 0.34305782],\n",
       "       [0.32153005, 0.33869111, 0.33977884],\n",
       "       [0.32881121, 0.33538943, 0.33579936],\n",
       "       [0.33287972, 0.33353977, 0.33358051],\n",
       "       [0.33061632, 0.33456919, 0.33481448],\n",
       "       [0.28791577, 0.35378065, 0.35830358],\n",
       "       [0.30657507, 0.34543665, 0.34798828],\n",
       "       [0.31849511, 0.34006401, 0.34144089],\n",
       "       [0.31598722, 0.34119698, 0.3428158 ],\n",
       "       [0.3265619 , 0.33641058, 0.33702753],\n",
       "       [0.32320282, 0.33793357, 0.33886361],\n",
       "       [0.32420866, 0.33747778, 0.33831357],\n",
       "       [0.32521611, 0.33702103, 0.33776285],\n",
       "       [0.30343661, 0.34684589, 0.34971749],\n",
       "       [0.32869856, 0.3354406 , 0.33586084],\n",
       "       [0.21317465, 0.38620521, 0.40062014],\n",
       "       [0.32320282, 0.33793357, 0.33886361],\n",
       "       [0.30777024, 0.3448994 , 0.34733036],\n",
       "       [0.31543576, 0.34144593, 0.34311831],\n",
       "       [0.3143344 , 0.34194292, 0.34372268],\n",
       "       [0.31709169, 0.34069819, 0.34221012],\n",
       "       [0.3265619 , 0.33641058, 0.33702753],\n",
       "       [0.32119604, 0.3388423 , 0.33996166],\n",
       "       [0.32488011, 0.33717339, 0.3379465 ],\n",
       "       [0.32488011, 0.33717339, 0.3379465 ],\n",
       "       [0.32071762, 0.33905882, 0.34022356],\n",
       "       [0.3104633 , 0.34368762, 0.34584908],\n",
       "       [0.31952875, 0.33959665, 0.34087461],\n",
       "       [0.31213794, 0.34293327, 0.34492879],\n",
       "       [0.31764469, 0.34044835, 0.34190696],\n",
       "       [0.31914037, 0.33977228, 0.34108735],\n",
       "       [0.32641597, 0.33647679, 0.33710724],\n",
       "       [0.31819821, 0.34019821, 0.34160358],\n",
       "       [0.32993882, 0.33487713, 0.33518405],\n",
       "       [0.31986184, 0.33944599, 0.34069217],\n",
       "       [0.31008364, 0.34385856, 0.34605781],\n",
       "       [0.31986184, 0.33944599, 0.34069217],\n",
       "       [0.31819821, 0.34019821, 0.34160358],\n",
       "       [0.30722666, 0.34514379, 0.34762955],\n",
       "       [0.31979521, 0.33947613, 0.34072866],\n",
       "       [0.33129453, 0.33426084, 0.33444463],\n",
       "       [0.30885899, 0.3444097 , 0.34673131],\n",
       "       [0.33174706, 0.33405505, 0.3341979 ],\n",
       "       [0.31653919, 0.34094774, 0.34251307],\n",
       "       [0.30646655, 0.34548542, 0.34804803],\n",
       "       [0.31687063, 0.34079805, 0.34233133],\n",
       "       [0.3045168 , 0.34636112, 0.34912208],\n",
       "       [0.32148551, 0.33871127, 0.33980322],\n",
       "       [0.32454429, 0.33732563, 0.33813007],\n",
       "       [0.32723586, 0.33610472, 0.33665942],\n",
       "       [0.31986184, 0.33944599, 0.34069217],\n",
       "       [0.31031042, 0.34375646, 0.34593312],\n",
       "       [0.32768557, 0.33590058, 0.33641385],\n",
       "       [0.31887697, 0.33989138, 0.34123166],\n",
       "       [0.31488482, 0.34169457, 0.3434206 ],\n",
       "       [0.3104633 , 0.34368762, 0.34584908],\n",
       "       [0.32544021, 0.33691941, 0.33764038],\n",
       "       [0.31808746, 0.34024826, 0.34166428],\n",
       "       [0.31764469, 0.34044835, 0.34190696],\n",
       "       [0.31986184, 0.33944599, 0.34069217],\n",
       "       [0.32432052, 0.33742707, 0.33825241],\n",
       "       [0.32488011, 0.33717339, 0.3379465 ],\n",
       "       [0.32219862, 0.33838841, 0.33941297],\n",
       "       [0.32791054, 0.33579844, 0.33629102],\n",
       "       [0.31819821, 0.34019821, 0.34160358],\n",
       "       [0.32824815, 0.33564515, 0.3361067 ],\n",
       "       [0.32153005, 0.33869111, 0.33977884],\n",
       "       [0.3240409 , 0.33755381, 0.33840529],\n",
       "       [0.32544021, 0.33691941, 0.33764038],\n",
       "       [0.31642876, 0.34099761, 0.34257363],\n",
       "       [0.32432052, 0.33742707, 0.33825241],\n",
       "       [0.32881121, 0.33538943, 0.33579936],\n",
       "       [0.32768557, 0.33590058, 0.33641385],\n",
       "       [0.31653919, 0.34094774, 0.34251307],\n",
       "       [0.29169883, 0.35209579, 0.35620538],\n",
       "       [0.32689879, 0.3362577 , 0.33684351],\n",
       "       [0.32488011, 0.33717339, 0.3379465 ],\n",
       "       [0.31104284, 0.34342663, 0.34553052],\n",
       "       [0.31986184, 0.33944599, 0.34069217],\n",
       "       [0.3204174 , 0.33919466, 0.34038794],\n",
       "       [0.32468308, 0.33726272, 0.3380542 ],\n",
       "       [0.30626041, 0.34557805, 0.34816154],\n",
       "       [0.31104284, 0.34342663, 0.34553052],\n",
       "       [0.3179774 , 0.340298  , 0.3417246 ],\n",
       "       [0.30382523, 0.34667152, 0.34950325],\n",
       "       [0.3265619 , 0.33641058, 0.33702753],\n",
       "       [0.32768557, 0.33590058, 0.33641385]])"
      ]
     },
     "execution_count": 22,
     "metadata": {},
     "output_type": "execute_result"
    }
   ],
   "source": [
    "model.predict_proba(X_test)"
   ]
  },
  {
   "cell_type": "code",
   "execution_count": 23,
   "id": "19a8b57a-ba03-4ad5-9d57-05df33dffe0f",
   "metadata": {},
   "outputs": [
    {
     "data": {
      "text/plain": [
       "0.680327868852459"
      ]
     },
     "execution_count": 23,
     "metadata": {},
     "output_type": "execute_result"
    }
   ],
   "source": [
    "model.score(X_test,y_test)"
   ]
  },
  {
   "cell_type": "code",
   "execution_count": 24,
   "id": "3b26eb02-ba44-4e09-b213-c72cc16d5863",
   "metadata": {},
   "outputs": [
    {
     "data": {
      "text/plain": [
       "array([2, 2, 2, 2, 2, 2, 2, 2, 2, 2, 2, 2, 2, 2, 2, 2, 2, 2, 2, 2, 2, 2,\n",
       "       2, 2, 2, 2, 2, 2, 2, 2, 2, 2, 2, 2, 2, 2, 2, 2, 2, 2, 2, 2, 2, 2,\n",
       "       2, 2, 2, 2, 2, 2, 2, 2, 2, 2, 2, 2, 2, 2, 2, 2, 2, 2, 2, 2, 2, 2,\n",
       "       2, 2, 2, 2, 2, 2, 2, 2, 2, 2, 2, 2, 2, 2, 2, 2, 2, 2, 2, 2, 2, 2,\n",
       "       2, 2, 2, 2, 2, 2, 2, 2, 2, 2, 2, 2, 2, 2, 2, 2, 2, 2, 2, 2, 2, 2,\n",
       "       2, 2, 2, 2, 2, 2, 2, 2, 2, 2, 2, 2])"
      ]
     },
     "execution_count": 24,
     "metadata": {},
     "output_type": "execute_result"
    }
   ],
   "source": [
    "y_predicted"
   ]
  },
  {
   "cell_type": "code",
   "execution_count": 25,
   "id": "f8265d59-e410-4612-ac71-a3a31933ffd2",
   "metadata": {},
   "outputs": [
    {
     "data": {
      "text/plain": [
       "array([[-3.40321929e-07],\n",
       "       [ 1.54892278e-07],\n",
       "       [ 1.85429651e-07]])"
      ]
     },
     "execution_count": 25,
     "metadata": {},
     "output_type": "execute_result"
    }
   ],
   "source": [
    "model.coef_"
   ]
  },
  {
   "cell_type": "code",
   "execution_count": 27,
   "id": "6d890a75-9cb8-4021-9823-c8e6a317d921",
   "metadata": {},
   "outputs": [
    {
     "data": {
      "text/plain": [
       "array([-7.67688802e-12, -1.25322073e-11,  2.02090953e-11])"
      ]
     },
     "execution_count": 27,
     "metadata": {},
     "output_type": "execute_result"
    }
   ],
   "source": [
    "model.intercept_"
   ]
  },
  {
   "cell_type": "code",
   "execution_count": 32,
   "id": "b0ae3eb1-f086-4611-87a1-91988164699c",
   "metadata": {},
   "outputs": [
    {
     "data": {
      "text/plain": [
       "<AxesSubplot:xlabel='salary_k', ylabel='remote_ratio'>"
      ]
     },
     "execution_count": 32,
     "metadata": {},
     "output_type": "execute_result"
    },
    {
     "data": {
      "image/png": "[encoded data removed]",
      "text/plain": [
       "<Figure size 432x288 with 1 Axes>"
      ]
     },
     "metadata": {
      "needs_background": "light"
     },
     "output_type": "display_data"
    }
   ],
   "source": [
    "import seaborn as sns\n",
    "\n",
    "sns.regplot(x=df.salary_k, y=df.remote_ratio, data=df, logistic=True, ci=None)"
   ]
  },
  {
   "cell_type": "code",
   "execution_count": null,
   "id": "135b51f1-551c-4cf6-a1c5-9eba4c05bc6a",
   "metadata": {},
   "outputs": [],
   "source": []
  }
 ],
 "metadata": {
  "kernelspec": {
   "display_name": "Python 3 (ipykernel)",
   "language": "python",
   "name": "python3"
  },
  "language_info": {
   "codemirror_mode": {
    "name": "ipython",
    "version": 3
   },
   "file_extension": ".py",
   "mimetype": "text/x-python",
   "name": "python",
   "nbconvert_exporter": "python",
   "pygments_lexer": "ipython3",
   "version": "3.9.12"
  }
 },
 "nbformat": 4,
 "nbformat_minor": 5
}
